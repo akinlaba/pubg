{
 "cells": [
  {
   "cell_type": "code",
   "execution_count": 1,
   "id": "95cd3ce1",
   "metadata": {},
   "outputs": [],
   "source": [
    "import pandas as pd\n",
    "import numpy as np\n",
    "import matplotlib\n",
    "import matplotlib.pyplot as plt\n",
    "import seaborn as sns\n",
    "from sklearn.preprocessing import StandardScaler,LabelEncoder,MinMaxScaler\n",
    "\n",
    "\n",
    "pd.set_option('display.max_columns', 500)\n",
    "pd.set_option('display.max_rows', 500)\n",
    "pd.set_option('display.float_format', lambda x: '%.2f' % x)"
   ]
  },
  {
   "cell_type": "code",
   "execution_count": 2,
   "id": "4287dd11",
   "metadata": {},
   "outputs": [],
   "source": [
    "df = pd.read_pickle('train.pkl')"
   ]
  },
  {
   "cell_type": "code",
   "execution_count": 3,
   "id": "0346e443",
   "metadata": {},
   "outputs": [
    {
     "name": "stdout",
     "output_type": "stream",
     "text": [
      "Engineering Features\n"
     ]
    }
   ],
   "source": [
    "print(\"Engineering Features\")"
   ]
  },
  {
   "cell_type": "code",
   "execution_count": 4,
   "id": "7ad5c828",
   "metadata": {},
   "outputs": [
    {
     "name": "stdout",
     "output_type": "stream",
     "text": [
      "What are the total number of players in each game? Big vs Small games\n"
     ]
    }
   ],
   "source": [
    "print(\"What are the total number of players in each game? Big vs Small games\")"
   ]
  },
  {
   "cell_type": "code",
   "execution_count": 5,
   "id": "1b56eb6f",
   "metadata": {},
   "outputs": [],
   "source": [
    "df['players_in_match'] = df.groupby('matchId')['matchId'].transform('count')"
   ]
  },
  {
   "cell_type": "code",
   "execution_count": 6,
   "id": "c57bb338",
   "metadata": {},
   "outputs": [
    {
     "data": {
      "text/plain": [
       "2"
      ]
     },
     "execution_count": 6,
     "metadata": {},
     "output_type": "execute_result"
    }
   ],
   "source": [
    "df.players_in_match.min()"
   ]
  },
  {
   "cell_type": "code",
   "execution_count": 7,
   "id": "3d78dd72",
   "metadata": {},
   "outputs": [
    {
     "data": {
      "text/plain": [
       "100"
      ]
     },
     "execution_count": 7,
     "metadata": {},
     "output_type": "execute_result"
    }
   ],
   "source": [
    "df.players_in_match.max()"
   ]
  },
  {
   "cell_type": "code",
   "execution_count": 8,
   "id": "91b90de7",
   "metadata": {},
   "outputs": [
    {
     "data": {
      "text/plain": [
       "94.1948130916254"
      ]
     },
     "execution_count": 8,
     "metadata": {},
     "output_type": "execute_result"
    }
   ],
   "source": [
    "df.players_in_match.mean()"
   ]
  },
  {
   "cell_type": "code",
   "execution_count": 9,
   "id": "fdea8ea8",
   "metadata": {},
   "outputs": [
    {
     "name": "stderr",
     "output_type": "stream",
     "text": [
      "/Users/akinakinlabi/opt/anaconda3/lib/python3.9/site-packages/seaborn/_decorators.py:36: FutureWarning: Pass the following variable as a keyword arg: x. From version 0.12, the only valid positional argument will be `data`, and passing other arguments without an explicit keyword will result in an error or misinterpretation.\n",
      "  warnings.warn(\n"
     ]
    },
    {
     "data": {
      "image/png": "[encoded data removed]",
      "text/plain": [
       "<Figure size 1800x1080 with 1 Axes>"
      ]
     },
     "metadata": {
      "needs_background": "light"
     },
     "output_type": "display_data"
    }
   ],
   "source": [
    "plt.figure(figsize=(25,15))\n",
    "sns.countplot(df['players_in_match'])\n",
    "plt.title(\"Total # Players in a Match Distribution\",fontsize=15)\n",
    "plt.ticklabel_format(style='plain', axis='y')\n",
    "plt.ylabel('Count Matches', fontsize='large')\n",
    "plt.xlabel('Players in a Match', fontsize='large')\n",
    "plt.savefig('player_distribution.png')\n",
    "plt.show()"
   ]
  },
  {
   "cell_type": "code",
   "execution_count": 10,
   "id": "25ce3ef9",
   "metadata": {},
   "outputs": [
    {
     "name": "stdout",
     "output_type": "stream",
     "text": [
      "Was this a custom lobby?\n"
     ]
    },
    {
     "data": {
      "text/html": [
       "<div>\n",
       "<style scoped>\n",
       "    .dataframe tbody tr th:only-of-type {\n",
       "        vertical-align: middle;\n",
       "    }\n",
       "\n",
       "    .dataframe tbody tr th {\n",
       "        vertical-align: top;\n",
       "    }\n",
       "\n",
       "    .dataframe thead th {\n",
       "        text-align: right;\n",
       "    }\n",
       "</style>\n",
       "<table border=\"1\" class=\"dataframe\">\n",
       "  <thead>\n",
       "    <tr style=\"text-align: right;\">\n",
       "      <th></th>\n",
       "      <th>Id</th>\n",
       "      <th>groupId</th>\n",
       "      <th>matchId</th>\n",
       "      <th>assists</th>\n",
       "      <th>boosts</th>\n",
       "      <th>damageDealt</th>\n",
       "      <th>DBNOs</th>\n",
       "      <th>headshotKills</th>\n",
       "      <th>heals</th>\n",
       "      <th>killPlace</th>\n",
       "      <th>killPoints</th>\n",
       "      <th>kills</th>\n",
       "      <th>killStreaks</th>\n",
       "      <th>longestKill</th>\n",
       "      <th>matchDuration</th>\n",
       "      <th>matchType</th>\n",
       "      <th>maxPlace</th>\n",
       "      <th>numGroups</th>\n",
       "      <th>rankPoints</th>\n",
       "      <th>revives</th>\n",
       "      <th>rideDistance</th>\n",
       "      <th>roadKills</th>\n",
       "      <th>swimDistance</th>\n",
       "      <th>teamKills</th>\n",
       "      <th>vehicleDestroys</th>\n",
       "      <th>walkDistance</th>\n",
       "      <th>weaponsAcquired</th>\n",
       "      <th>winPoints</th>\n",
       "      <th>winPlacePerc</th>\n",
       "      <th>players_in_match</th>\n",
       "    </tr>\n",
       "  </thead>\n",
       "  <tbody>\n",
       "    <tr>\n",
       "      <th>1206365</th>\n",
       "      <td>28f2bb56074e95</td>\n",
       "      <td>311a5a9adf1a96</td>\n",
       "      <td>e5a77433bc436f</td>\n",
       "      <td>0</td>\n",
       "      <td>0</td>\n",
       "      <td>100.00</td>\n",
       "      <td>0</td>\n",
       "      <td>1</td>\n",
       "      <td>0</td>\n",
       "      <td>1</td>\n",
       "      <td>0</td>\n",
       "      <td>1</td>\n",
       "      <td>1</td>\n",
       "      <td>0.00</td>\n",
       "      <td>133</td>\n",
       "      <td>normal-solo-fpp</td>\n",
       "      <td>2</td>\n",
       "      <td>2</td>\n",
       "      <td>1500</td>\n",
       "      <td>0</td>\n",
       "      <td>0.00</td>\n",
       "      <td>0</td>\n",
       "      <td>0.00</td>\n",
       "      <td>0</td>\n",
       "      <td>0</td>\n",
       "      <td>0.28</td>\n",
       "      <td>2</td>\n",
       "      <td>0</td>\n",
       "      <td>1.00</td>\n",
       "      <td>2</td>\n",
       "    </tr>\n",
       "    <tr>\n",
       "      <th>2109739</th>\n",
       "      <td>2a5f4f18fe9e86</td>\n",
       "      <td>f290930a32548a</td>\n",
       "      <td>e5a77433bc436f</td>\n",
       "      <td>0</td>\n",
       "      <td>0</td>\n",
       "      <td>0.00</td>\n",
       "      <td>0</td>\n",
       "      <td>0</td>\n",
       "      <td>0</td>\n",
       "      <td>2</td>\n",
       "      <td>0</td>\n",
       "      <td>0</td>\n",
       "      <td>0</td>\n",
       "      <td>0.00</td>\n",
       "      <td>133</td>\n",
       "      <td>normal-solo-fpp</td>\n",
       "      <td>2</td>\n",
       "      <td>2</td>\n",
       "      <td>1500</td>\n",
       "      <td>0</td>\n",
       "      <td>0.00</td>\n",
       "      <td>0</td>\n",
       "      <td>0.00</td>\n",
       "      <td>0</td>\n",
       "      <td>0</td>\n",
       "      <td>0.00</td>\n",
       "      <td>2</td>\n",
       "      <td>0</td>\n",
       "      <td>0.00</td>\n",
       "      <td>2</td>\n",
       "    </tr>\n",
       "  </tbody>\n",
       "</table>\n",
       "</div>"
      ],
      "text/plain": [
       "                     Id         groupId         matchId  assists  boosts  \\\n",
       "1206365  28f2bb56074e95  311a5a9adf1a96  e5a77433bc436f        0       0   \n",
       "2109739  2a5f4f18fe9e86  f290930a32548a  e5a77433bc436f        0       0   \n",
       "\n",
       "         damageDealt  DBNOs  headshotKills  heals  killPlace  killPoints  \\\n",
       "1206365       100.00      0              1      0          1           0   \n",
       "2109739         0.00      0              0      0          2           0   \n",
       "\n",
       "         kills  killStreaks  longestKill  matchDuration        matchType  \\\n",
       "1206365      1            1         0.00            133  normal-solo-fpp   \n",
       "2109739      0            0         0.00            133  normal-solo-fpp   \n",
       "\n",
       "         maxPlace  numGroups  rankPoints  revives  rideDistance  roadKills  \\\n",
       "1206365         2          2        1500        0          0.00          0   \n",
       "2109739         2          2        1500        0          0.00          0   \n",
       "\n",
       "         swimDistance  teamKills  vehicleDestroys  walkDistance  \\\n",
       "1206365          0.00          0                0          0.28   \n",
       "2109739          0.00          0                0          0.00   \n",
       "\n",
       "         weaponsAcquired  winPoints  winPlacePerc  players_in_match  \n",
       "1206365                2          0          1.00                 2  \n",
       "2109739                2          0          0.00                 2  "
      ]
     },
     "execution_count": 10,
     "metadata": {},
     "output_type": "execute_result"
    }
   ],
   "source": [
    "print(\"Was this a custom lobby?\")\n",
    "df[df.players_in_match < 5]"
   ]
  },
  {
   "cell_type": "code",
   "execution_count": 11,
   "id": "8e54e0c8",
   "metadata": {},
   "outputs": [
    {
     "name": "stdout",
     "output_type": "stream",
     "text": [
      "Are these custom lobbies?\n"
     ]
    },
    {
     "data": {
      "text/html": [
       "<div>\n",
       "<style scoped>\n",
       "    .dataframe tbody tr th:only-of-type {\n",
       "        vertical-align: middle;\n",
       "    }\n",
       "\n",
       "    .dataframe tbody tr th {\n",
       "        vertical-align: top;\n",
       "    }\n",
       "\n",
       "    .dataframe thead th {\n",
       "        text-align: right;\n",
       "    }\n",
       "</style>\n",
       "<table border=\"1\" class=\"dataframe\">\n",
       "  <thead>\n",
       "    <tr style=\"text-align: right;\">\n",
       "      <th></th>\n",
       "      <th>Id</th>\n",
       "      <th>groupId</th>\n",
       "      <th>matchId</th>\n",
       "      <th>assists</th>\n",
       "      <th>boosts</th>\n",
       "      <th>damageDealt</th>\n",
       "      <th>DBNOs</th>\n",
       "      <th>headshotKills</th>\n",
       "      <th>heals</th>\n",
       "      <th>killPlace</th>\n",
       "      <th>killPoints</th>\n",
       "      <th>kills</th>\n",
       "      <th>killStreaks</th>\n",
       "      <th>longestKill</th>\n",
       "      <th>matchDuration</th>\n",
       "      <th>matchType</th>\n",
       "      <th>maxPlace</th>\n",
       "      <th>numGroups</th>\n",
       "      <th>rankPoints</th>\n",
       "      <th>revives</th>\n",
       "      <th>rideDistance</th>\n",
       "      <th>roadKills</th>\n",
       "      <th>swimDistance</th>\n",
       "      <th>teamKills</th>\n",
       "      <th>vehicleDestroys</th>\n",
       "      <th>walkDistance</th>\n",
       "      <th>weaponsAcquired</th>\n",
       "      <th>winPoints</th>\n",
       "      <th>winPlacePerc</th>\n",
       "      <th>players_in_match</th>\n",
       "    </tr>\n",
       "  </thead>\n",
       "  <tbody>\n",
       "    <tr>\n",
       "      <th>5479</th>\n",
       "      <td>875a95c6a48744</td>\n",
       "      <td>47f6d77a0582b3</td>\n",
       "      <td>e263f4a227313a</td>\n",
       "      <td>3</td>\n",
       "      <td>0</td>\n",
       "      <td>745.70</td>\n",
       "      <td>3</td>\n",
       "      <td>2</td>\n",
       "      <td>10</td>\n",
       "      <td>3</td>\n",
       "      <td>1000</td>\n",
       "      <td>7</td>\n",
       "      <td>2</td>\n",
       "      <td>29.90</td>\n",
       "      <td>887</td>\n",
       "      <td>normal-duo-fpp</td>\n",
       "      <td>6</td>\n",
       "      <td>6</td>\n",
       "      <td>-1</td>\n",
       "      <td>0</td>\n",
       "      <td>0.00</td>\n",
       "      <td>0</td>\n",
       "      <td>0.00</td>\n",
       "      <td>0</td>\n",
       "      <td>0</td>\n",
       "      <td>528.70</td>\n",
       "      <td>16</td>\n",
       "      <td>1500</td>\n",
       "      <td>0.40</td>\n",
       "      <td>8</td>\n",
       "    </tr>\n",
       "    <tr>\n",
       "      <th>6632</th>\n",
       "      <td>6ab29688a68902</td>\n",
       "      <td>398e7519c03ea8</td>\n",
       "      <td>4ed32be2abeae8</td>\n",
       "      <td>0</td>\n",
       "      <td>2</td>\n",
       "      <td>85.67</td>\n",
       "      <td>0</td>\n",
       "      <td>0</td>\n",
       "      <td>7</td>\n",
       "      <td>3</td>\n",
       "      <td>0</td>\n",
       "      <td>1</td>\n",
       "      <td>1</td>\n",
       "      <td>4.51</td>\n",
       "      <td>314</td>\n",
       "      <td>normal-solo-fpp</td>\n",
       "      <td>10</td>\n",
       "      <td>10</td>\n",
       "      <td>1500</td>\n",
       "      <td>0</td>\n",
       "      <td>0.00</td>\n",
       "      <td>0</td>\n",
       "      <td>0.00</td>\n",
       "      <td>0</td>\n",
       "      <td>0</td>\n",
       "      <td>187.10</td>\n",
       "      <td>1</td>\n",
       "      <td>0</td>\n",
       "      <td>0.78</td>\n",
       "      <td>10</td>\n",
       "    </tr>\n",
       "    <tr>\n",
       "      <th>14542</th>\n",
       "      <td>3933e63a8af092</td>\n",
       "      <td>c61a92782a1e26</td>\n",
       "      <td>05b0db99545118</td>\n",
       "      <td>0</td>\n",
       "      <td>2</td>\n",
       "      <td>0.00</td>\n",
       "      <td>0</td>\n",
       "      <td>0</td>\n",
       "      <td>1</td>\n",
       "      <td>4</td>\n",
       "      <td>0</td>\n",
       "      <td>0</td>\n",
       "      <td>0</td>\n",
       "      <td>0.00</td>\n",
       "      <td>1061</td>\n",
       "      <td>normal-solo-fpp</td>\n",
       "      <td>10</td>\n",
       "      <td>9</td>\n",
       "      <td>1500</td>\n",
       "      <td>0</td>\n",
       "      <td>0.00</td>\n",
       "      <td>0</td>\n",
       "      <td>0.00</td>\n",
       "      <td>0</td>\n",
       "      <td>0</td>\n",
       "      <td>2788.00</td>\n",
       "      <td>4</td>\n",
       "      <td>0</td>\n",
       "      <td>0.89</td>\n",
       "      <td>10</td>\n",
       "    </tr>\n",
       "    <tr>\n",
       "      <th>16111</th>\n",
       "      <td>485e1a3e04b1d2</td>\n",
       "      <td>ab4f756ceedb8d</td>\n",
       "      <td>93513672bce7d5</td>\n",
       "      <td>0</td>\n",
       "      <td>3</td>\n",
       "      <td>5.75</td>\n",
       "      <td>0</td>\n",
       "      <td>0</td>\n",
       "      <td>1</td>\n",
       "      <td>6</td>\n",
       "      <td>1000</td>\n",
       "      <td>0</td>\n",
       "      <td>0</td>\n",
       "      <td>0.00</td>\n",
       "      <td>1059</td>\n",
       "      <td>normal-solo-fpp</td>\n",
       "      <td>8</td>\n",
       "      <td>8</td>\n",
       "      <td>-1</td>\n",
       "      <td>0</td>\n",
       "      <td>1040.00</td>\n",
       "      <td>0</td>\n",
       "      <td>52.48</td>\n",
       "      <td>0</td>\n",
       "      <td>0</td>\n",
       "      <td>1004.00</td>\n",
       "      <td>5</td>\n",
       "      <td>1500</td>\n",
       "      <td>0.43</td>\n",
       "      <td>8</td>\n",
       "    </tr>\n",
       "    <tr>\n",
       "      <th>20181</th>\n",
       "      <td>311bbc2d003b4e</td>\n",
       "      <td>40e212e6ac9cfc</td>\n",
       "      <td>05b0db99545118</td>\n",
       "      <td>0</td>\n",
       "      <td>0</td>\n",
       "      <td>0.00</td>\n",
       "      <td>0</td>\n",
       "      <td>0</td>\n",
       "      <td>0</td>\n",
       "      <td>8</td>\n",
       "      <td>0</td>\n",
       "      <td>0</td>\n",
       "      <td>0</td>\n",
       "      <td>0.00</td>\n",
       "      <td>1061</td>\n",
       "      <td>normal-solo-fpp</td>\n",
       "      <td>10</td>\n",
       "      <td>9</td>\n",
       "      <td>1500</td>\n",
       "      <td>0</td>\n",
       "      <td>0.00</td>\n",
       "      <td>0</td>\n",
       "      <td>0.00</td>\n",
       "      <td>0</td>\n",
       "      <td>0</td>\n",
       "      <td>103.10</td>\n",
       "      <td>1</td>\n",
       "      <td>0</td>\n",
       "      <td>0.22</td>\n",
       "      <td>10</td>\n",
       "    </tr>\n",
       "    <tr>\n",
       "      <th>...</th>\n",
       "      <td>...</td>\n",
       "      <td>...</td>\n",
       "      <td>...</td>\n",
       "      <td>...</td>\n",
       "      <td>...</td>\n",
       "      <td>...</td>\n",
       "      <td>...</td>\n",
       "      <td>...</td>\n",
       "      <td>...</td>\n",
       "      <td>...</td>\n",
       "      <td>...</td>\n",
       "      <td>...</td>\n",
       "      <td>...</td>\n",
       "      <td>...</td>\n",
       "      <td>...</td>\n",
       "      <td>...</td>\n",
       "      <td>...</td>\n",
       "      <td>...</td>\n",
       "      <td>...</td>\n",
       "      <td>...</td>\n",
       "      <td>...</td>\n",
       "      <td>...</td>\n",
       "      <td>...</td>\n",
       "      <td>...</td>\n",
       "      <td>...</td>\n",
       "      <td>...</td>\n",
       "      <td>...</td>\n",
       "      <td>...</td>\n",
       "      <td>...</td>\n",
       "      <td>...</td>\n",
       "    </tr>\n",
       "    <tr>\n",
       "      <th>4385746</th>\n",
       "      <td>70fe2765407b27</td>\n",
       "      <td>c5025cd87d327f</td>\n",
       "      <td>2f24ef22e0383c</td>\n",
       "      <td>0</td>\n",
       "      <td>1</td>\n",
       "      <td>177.20</td>\n",
       "      <td>0</td>\n",
       "      <td>1</td>\n",
       "      <td>3</td>\n",
       "      <td>2</td>\n",
       "      <td>0</td>\n",
       "      <td>2</td>\n",
       "      <td>1</td>\n",
       "      <td>14.06</td>\n",
       "      <td>312</td>\n",
       "      <td>normal-solo-fpp</td>\n",
       "      <td>9</td>\n",
       "      <td>9</td>\n",
       "      <td>1500</td>\n",
       "      <td>0</td>\n",
       "      <td>0.00</td>\n",
       "      <td>0</td>\n",
       "      <td>0.00</td>\n",
       "      <td>0</td>\n",
       "      <td>0</td>\n",
       "      <td>192.50</td>\n",
       "      <td>4</td>\n",
       "      <td>0</td>\n",
       "      <td>0.88</td>\n",
       "      <td>9</td>\n",
       "    </tr>\n",
       "    <tr>\n",
       "      <th>4386293</th>\n",
       "      <td>22dda9b66f2f4d</td>\n",
       "      <td>56490bbe9f559f</td>\n",
       "      <td>4fbe7d6c5f6537</td>\n",
       "      <td>2</td>\n",
       "      <td>3</td>\n",
       "      <td>911.40</td>\n",
       "      <td>0</td>\n",
       "      <td>2</td>\n",
       "      <td>12</td>\n",
       "      <td>3</td>\n",
       "      <td>1000</td>\n",
       "      <td>7</td>\n",
       "      <td>2</td>\n",
       "      <td>150.10</td>\n",
       "      <td>899</td>\n",
       "      <td>normal-solo-fpp</td>\n",
       "      <td>9</td>\n",
       "      <td>6</td>\n",
       "      <td>-1</td>\n",
       "      <td>0</td>\n",
       "      <td>0.00</td>\n",
       "      <td>0</td>\n",
       "      <td>0.00</td>\n",
       "      <td>0</td>\n",
       "      <td>0</td>\n",
       "      <td>200.60</td>\n",
       "      <td>10</td>\n",
       "      <td>1500</td>\n",
       "      <td>0.75</td>\n",
       "      <td>9</td>\n",
       "    </tr>\n",
       "    <tr>\n",
       "      <th>4394823</th>\n",
       "      <td>a34af28c3803cc</td>\n",
       "      <td>9ee5af5bd13e6c</td>\n",
       "      <td>f0824159ddaa72</td>\n",
       "      <td>0</td>\n",
       "      <td>0</td>\n",
       "      <td>100.00</td>\n",
       "      <td>1</td>\n",
       "      <td>0</td>\n",
       "      <td>0</td>\n",
       "      <td>7</td>\n",
       "      <td>0</td>\n",
       "      <td>0</td>\n",
       "      <td>0</td>\n",
       "      <td>0.00</td>\n",
       "      <td>948</td>\n",
       "      <td>normal-duo-fpp</td>\n",
       "      <td>4</td>\n",
       "      <td>4</td>\n",
       "      <td>1500</td>\n",
       "      <td>0</td>\n",
       "      <td>0.00</td>\n",
       "      <td>0</td>\n",
       "      <td>0.00</td>\n",
       "      <td>0</td>\n",
       "      <td>0</td>\n",
       "      <td>402.00</td>\n",
       "      <td>2</td>\n",
       "      <td>0</td>\n",
       "      <td>0.00</td>\n",
       "      <td>8</td>\n",
       "    </tr>\n",
       "    <tr>\n",
       "      <th>4410353</th>\n",
       "      <td>e0df7cd963706f</td>\n",
       "      <td>fa8d99ee08654a</td>\n",
       "      <td>cba97f92945435</td>\n",
       "      <td>0</td>\n",
       "      <td>0</td>\n",
       "      <td>0.00</td>\n",
       "      <td>0</td>\n",
       "      <td>0</td>\n",
       "      <td>0</td>\n",
       "      <td>8</td>\n",
       "      <td>0</td>\n",
       "      <td>0</td>\n",
       "      <td>0</td>\n",
       "      <td>0.00</td>\n",
       "      <td>656</td>\n",
       "      <td>normal-solo-fpp</td>\n",
       "      <td>10</td>\n",
       "      <td>10</td>\n",
       "      <td>1500</td>\n",
       "      <td>0</td>\n",
       "      <td>610.70</td>\n",
       "      <td>0</td>\n",
       "      <td>0.00</td>\n",
       "      <td>0</td>\n",
       "      <td>0</td>\n",
       "      <td>316.50</td>\n",
       "      <td>3</td>\n",
       "      <td>0</td>\n",
       "      <td>0.22</td>\n",
       "      <td>10</td>\n",
       "    </tr>\n",
       "    <tr>\n",
       "      <th>4431589</th>\n",
       "      <td>2a63c809ee549e</td>\n",
       "      <td>b2e3e24c25c744</td>\n",
       "      <td>bc10cc08f1f56a</td>\n",
       "      <td>4</td>\n",
       "      <td>0</td>\n",
       "      <td>2639.00</td>\n",
       "      <td>0</td>\n",
       "      <td>9</td>\n",
       "      <td>11</td>\n",
       "      <td>2</td>\n",
       "      <td>1000</td>\n",
       "      <td>28</td>\n",
       "      <td>2</td>\n",
       "      <td>134.20</td>\n",
       "      <td>1792</td>\n",
       "      <td>normal-duo-fpp</td>\n",
       "      <td>7</td>\n",
       "      <td>6</td>\n",
       "      <td>-1</td>\n",
       "      <td>0</td>\n",
       "      <td>0.00</td>\n",
       "      <td>0</td>\n",
       "      <td>0.00</td>\n",
       "      <td>0</td>\n",
       "      <td>0</td>\n",
       "      <td>1032.00</td>\n",
       "      <td>45</td>\n",
       "      <td>1500</td>\n",
       "      <td>0.83</td>\n",
       "      <td>7</td>\n",
       "    </tr>\n",
       "  </tbody>\n",
       "</table>\n",
       "<p>622 rows × 30 columns</p>\n",
       "</div>"
      ],
      "text/plain": [
       "                     Id         groupId         matchId  assists  boosts  \\\n",
       "5479     875a95c6a48744  47f6d77a0582b3  e263f4a227313a        3       0   \n",
       "6632     6ab29688a68902  398e7519c03ea8  4ed32be2abeae8        0       2   \n",
       "14542    3933e63a8af092  c61a92782a1e26  05b0db99545118        0       2   \n",
       "16111    485e1a3e04b1d2  ab4f756ceedb8d  93513672bce7d5        0       3   \n",
       "20181    311bbc2d003b4e  40e212e6ac9cfc  05b0db99545118        0       0   \n",
       "...                 ...             ...             ...      ...     ...   \n",
       "4385746  70fe2765407b27  c5025cd87d327f  2f24ef22e0383c        0       1   \n",
       "4386293  22dda9b66f2f4d  56490bbe9f559f  4fbe7d6c5f6537        2       3   \n",
       "4394823  a34af28c3803cc  9ee5af5bd13e6c  f0824159ddaa72        0       0   \n",
       "4410353  e0df7cd963706f  fa8d99ee08654a  cba97f92945435        0       0   \n",
       "4431589  2a63c809ee549e  b2e3e24c25c744  bc10cc08f1f56a        4       0   \n",
       "\n",
       "         damageDealt  DBNOs  headshotKills  heals  killPlace  killPoints  \\\n",
       "5479          745.70      3              2     10          3        1000   \n",
       "6632           85.67      0              0      7          3           0   \n",
       "14542           0.00      0              0      1          4           0   \n",
       "16111           5.75      0              0      1          6        1000   \n",
       "20181           0.00      0              0      0          8           0   \n",
       "...              ...    ...            ...    ...        ...         ...   \n",
       "4385746       177.20      0              1      3          2           0   \n",
       "4386293       911.40      0              2     12          3        1000   \n",
       "4394823       100.00      1              0      0          7           0   \n",
       "4410353         0.00      0              0      0          8           0   \n",
       "4431589      2639.00      0              9     11          2        1000   \n",
       "\n",
       "         kills  killStreaks  longestKill  matchDuration        matchType  \\\n",
       "5479         7            2        29.90            887   normal-duo-fpp   \n",
       "6632         1            1         4.51            314  normal-solo-fpp   \n",
       "14542        0            0         0.00           1061  normal-solo-fpp   \n",
       "16111        0            0         0.00           1059  normal-solo-fpp   \n",
       "20181        0            0         0.00           1061  normal-solo-fpp   \n",
       "...        ...          ...          ...            ...              ...   \n",
       "4385746      2            1        14.06            312  normal-solo-fpp   \n",
       "4386293      7            2       150.10            899  normal-solo-fpp   \n",
       "4394823      0            0         0.00            948   normal-duo-fpp   \n",
       "4410353      0            0         0.00            656  normal-solo-fpp   \n",
       "4431589     28            2       134.20           1792   normal-duo-fpp   \n",
       "\n",
       "         maxPlace  numGroups  rankPoints  revives  rideDistance  roadKills  \\\n",
       "5479            6          6          -1        0          0.00          0   \n",
       "6632           10         10        1500        0          0.00          0   \n",
       "14542          10          9        1500        0          0.00          0   \n",
       "16111           8          8          -1        0       1040.00          0   \n",
       "20181          10          9        1500        0          0.00          0   \n",
       "...           ...        ...         ...      ...           ...        ...   \n",
       "4385746         9          9        1500        0          0.00          0   \n",
       "4386293         9          6          -1        0          0.00          0   \n",
       "4394823         4          4        1500        0          0.00          0   \n",
       "4410353        10         10        1500        0        610.70          0   \n",
       "4431589         7          6          -1        0          0.00          0   \n",
       "\n",
       "         swimDistance  teamKills  vehicleDestroys  walkDistance  \\\n",
       "5479             0.00          0                0        528.70   \n",
       "6632             0.00          0                0        187.10   \n",
       "14542            0.00          0                0       2788.00   \n",
       "16111           52.48          0                0       1004.00   \n",
       "20181            0.00          0                0        103.10   \n",
       "...               ...        ...              ...           ...   \n",
       "4385746          0.00          0                0        192.50   \n",
       "4386293          0.00          0                0        200.60   \n",
       "4394823          0.00          0                0        402.00   \n",
       "4410353          0.00          0                0        316.50   \n",
       "4431589          0.00          0                0       1032.00   \n",
       "\n",
       "         weaponsAcquired  winPoints  winPlacePerc  players_in_match  \n",
       "5479                  16       1500          0.40                 8  \n",
       "6632                   1          0          0.78                10  \n",
       "14542                  4          0          0.89                10  \n",
       "16111                  5       1500          0.43                 8  \n",
       "20181                  1          0          0.22                10  \n",
       "...                  ...        ...           ...               ...  \n",
       "4385746                4          0          0.88                 9  \n",
       "4386293               10       1500          0.75                 9  \n",
       "4394823                2          0          0.00                 8  \n",
       "4410353                3          0          0.22                10  \n",
       "4431589               45       1500          0.83                 7  \n",
       "\n",
       "[622 rows x 30 columns]"
      ]
     },
     "execution_count": 11,
     "metadata": {},
     "output_type": "execute_result"
    }
   ],
   "source": [
    "print(\"Are these custom lobbies?\")\n",
    "df[df.players_in_match < 11]"
   ]
  },
  {
   "cell_type": "code",
   "execution_count": 12,
   "id": "1ac0c4bc",
   "metadata": {},
   "outputs": [
    {
     "data": {
      "text/plain": [
       "array(['normal-duo-fpp', 'normal-solo-fpp', 'normal-squad-fpp',\n",
       "       'normal-duo', 'squad-fpp', 'normal-solo', 'duo-fpp', 'solo-fpp'],\n",
       "      dtype=object)"
      ]
     },
     "execution_count": 12,
     "metadata": {},
     "output_type": "execute_result"
    }
   ],
   "source": [
    "df[df.players_in_match < 11].matchType.unique()"
   ]
  },
  {
   "cell_type": "code",
   "execution_count": 13,
   "id": "8613b74a",
   "metadata": {},
   "outputs": [
    {
     "name": "stdout",
     "output_type": "stream",
     "text": [
      "Total number of matches with 10 or less players\n"
     ]
    },
    {
     "data": {
      "text/plain": [
       "(75,)"
      ]
     },
     "execution_count": 13,
     "metadata": {},
     "output_type": "execute_result"
    }
   ],
   "source": [
    "print(\"Total number of matches with 10 or less players\")\n",
    "df[df.players_in_match < 11].matchId.unique().shape"
   ]
  },
  {
   "cell_type": "code",
   "execution_count": 14,
   "id": "2bf34376",
   "metadata": {},
   "outputs": [
    {
     "name": "stdout",
     "output_type": "stream",
     "text": [
      "Let's add up distance columns, and items acquired\n"
     ]
    }
   ],
   "source": [
    "print(\"Let's add up distance columns, and items acquired\")"
   ]
  },
  {
   "cell_type": "code",
   "execution_count": 15,
   "id": "0c8b4b9b",
   "metadata": {},
   "outputs": [],
   "source": [
    "# df['heals_and_boosts'] = df['heals']+df['boosts']\n",
    "df['total_distance'] = df['walkDistance']+df['rideDistance']+df['swimDistance']\n",
    "df['total_items_acquired'] = df['heals']+df['boosts']+df['weaponsAcquired']"
   ]
  },
  {
   "cell_type": "code",
   "execution_count": 16,
   "id": "2f3aa0f8",
   "metadata": {},
   "outputs": [
    {
     "name": "stdout",
     "output_type": "stream",
     "text": [
      "Let's get some accuracy and efficiency features going\n"
     ]
    }
   ],
   "source": [
    "print(\"Let's get some accuracy and efficiency features going\")"
   ]
  },
  {
   "cell_type": "code",
   "execution_count": 17,
   "id": "bdb24f8f",
   "metadata": {},
   "outputs": [],
   "source": [
    "df['headshot_to_kill'] = df['headshotKills'] / df['kills']\n",
    "df['total_distance_per_kill'] = df['total_distance'] / df['kills']\n",
    "df['total_items_per_kill'] = df['total_items_acquired'] / df['kills']"
   ]
  },
  {
   "cell_type": "code",
   "execution_count": 18,
   "id": "c10ad321",
   "metadata": {},
   "outputs": [],
   "source": [
    "df['damage_per_distance'] = df.damageDealt/df.total_distance"
   ]
  },
  {
   "cell_type": "code",
   "execution_count": 19,
   "id": "ff712cbf",
   "metadata": {},
   "outputs": [
    {
     "name": "stdout",
     "output_type": "stream",
     "text": [
      "Leveraging kill place and max place to differentiate good from bad players\n"
     ]
    }
   ],
   "source": [
    "print(\"Leveraging kill place and max place to differentiate good from bad players\")"
   ]
  },
  {
   "cell_type": "code",
   "execution_count": 20,
   "id": "89cbf61f",
   "metadata": {},
   "outputs": [],
   "source": [
    "df['killplace_to_maxPlace'] = df['killPlace'] / df['maxPlace']"
   ]
  },
  {
   "cell_type": "code",
   "execution_count": 21,
   "id": "f550a694",
   "metadata": {},
   "outputs": [
    {
     "name": "stdout",
     "output_type": "stream",
     "text": [
      "convert categorical features to numeric\n"
     ]
    }
   ],
   "source": [
    "print(\"convert categorical features to numeric\")"
   ]
  },
  {
   "cell_type": "code",
   "execution_count": 22,
   "id": "2939da7e",
   "metadata": {},
   "outputs": [
    {
     "data": {
      "text/plain": [
       "0          15\n",
       "1          15\n",
       "2           2\n",
       "3          15\n",
       "4          13\n",
       "           ..\n",
       "4446961    15\n",
       "4446962    12\n",
       "4446963    15\n",
       "4446964    15\n",
       "4446965    13\n",
       "Name: matchType_encoded, Length: 4446965, dtype: int64"
      ]
     },
     "execution_count": 22,
     "metadata": {},
     "output_type": "execute_result"
    }
   ],
   "source": [
    "label_encoder =LabelEncoder()\n",
    "df['matchType_encoded']= label_encoder.fit_transform(df['matchType'])\n",
    "df['matchType_encoded']"
   ]
  },
  {
   "cell_type": "code",
   "execution_count": 23,
   "id": "e99a77b2",
   "metadata": {},
   "outputs": [
    {
     "name": "stdout",
     "output_type": "stream",
     "text": [
      "Let's get some duo and squad features going\n"
     ]
    }
   ],
   "source": [
    "print(\"Let's get some duo and squad features going\")"
   ]
  },
  {
   "cell_type": "code",
   "execution_count": null,
   "id": "53b7f92c",
   "metadata": {},
   "outputs": [],
   "source": [
    "df = df.assign(team_size = df.groupby('groupId').groupId.transform('count'))\n",
    "df = df.assign(max_team_size_lobby = df.groupby('matchId').team_size.transform('max'))\n",
    "df = df.assign(lobby_size = df.groupby('matchId').Id.transform('nunique'))"
   ]
  },
  {
   "cell_type": "code",
   "execution_count": null,
   "id": "66724b27",
   "metadata": {},
   "outputs": [],
   "source": [
    "print(\"Let's get max number of kills possible to win game in a lobby\")"
   ]
  },
  {
   "cell_type": "code",
   "execution_count": null,
   "id": "07a35681",
   "metadata": {},
   "outputs": [],
   "source": [
    "df['max_possible_kills'] = df.lobby_size - df.team_size"
   ]
  },
  {
   "cell_type": "code",
   "execution_count": null,
   "id": "18d635a1",
   "metadata": {},
   "outputs": [],
   "source": [
    "print(\"Max number of kills, and total damage, kills, kill points, and items acquired on team\")\n",
    "df['max_kill_team'] = df.groupby('groupId').kills.transform('max')\n",
    "df['total_team_damage'] = df.groupby('groupId').damageDealt.transform('sum')\n",
    "df['total_team_kills'] =  df.groupby('groupId').kills.transform('sum')\n",
    "df['total_team_items'] = df.groupby('groupId').total_items_acquired.transform('sum')\n",
    "df['total_team_distance'] = df.groupby('groupId').total_distance.transform('sum')\n",
    "df['team_kill_points'] = df.groupby('groupId').killPoints.transform('sum')"
   ]
  },
  {
   "cell_type": "code",
   "execution_count": null,
   "id": "7e383212",
   "metadata": {},
   "outputs": [],
   "source": [
    "print(\"Let's get some match features going\")"
   ]
  },
  {
   "cell_type": "code",
   "execution_count": null,
   "id": "b2fa03b5",
   "metadata": {},
   "outputs": [],
   "source": [
    "print(\"Total number of kills and distance, and max kill in a match\")\n",
    "df['max_kills_match'] = df.groupby('matchId').kills.transform('max')\n",
    "df['total_kills_match'] = df.groupby('matchId').kills.transform('sum')\n",
    "df['total_distance_match'] = df.groupby('matchId').total_distance.transform('sum')"
   ]
  },
  {
   "cell_type": "code",
   "execution_count": null,
   "id": "0191c988",
   "metadata": {},
   "outputs": [],
   "source": [
    "df.isnull().sum()"
   ]
  },
  {
   "cell_type": "code",
   "execution_count": null,
   "id": "4f179d33",
   "metadata": {
    "scrolled": true
   },
   "outputs": [],
   "source": [
    "df.head()"
   ]
  },
  {
   "cell_type": "code",
   "execution_count": null,
   "id": "33e74b2c",
   "metadata": {},
   "outputs": [],
   "source": [
    "train = df.drop(columns=['Id','groupId','matchId','matchType'] ,axis=1)"
   ]
  },
  {
   "cell_type": "code",
   "execution_count": null,
   "id": "08bea0f4",
   "metadata": {},
   "outputs": [],
   "source": [
    "train.replace([np.inf, -np.inf], np.nan, inplace=True)"
   ]
  },
  {
   "cell_type": "code",
   "execution_count": null,
   "id": "74725230",
   "metadata": {},
   "outputs": [],
   "source": [
    "train.fillna(0, inplace=True)"
   ]
  },
  {
   "cell_type": "code",
   "execution_count": null,
   "id": "952866e4",
   "metadata": {},
   "outputs": [],
   "source": [
    "train.to_pickle('feature_train.pkl')"
   ]
  },
  {
   "cell_type": "code",
   "execution_count": null,
   "id": "151197d1",
   "metadata": {},
   "outputs": [],
   "source": [
    "f,ax = plt.subplots(figsize=(20, 20))\n",
    "cols = train.corr()['winPlacePerc'].index\n",
    "cm = np.corrcoef(train[cols].values.T)\n",
    "sns.set(font_scale=1.25)\n",
    "hm = sns.heatmap(cm, cbar=True, annot=True, square=True, fmt='.2f', annot_kws={'size': 10}, yticklabels=cols.values, xticklabels=cols.values)\n",
    "plt.show()"
   ]
  },
  {
   "cell_type": "code",
   "execution_count": null,
   "id": "65deded9",
   "metadata": {},
   "outputs": [],
   "source": [
    "k = 15 #number of variables for heatmap\n",
    "f,ax = plt.subplots(figsize=(11, 11))\n",
    "cols = train.corr().nlargest(k, 'winPlacePerc')['winPlacePerc'].index\n",
    "cm = np.corrcoef(train[cols].values.T)\n",
    "sns.set(font_scale=1.25)\n",
    "hm = sns.heatmap(cm, cbar=True, annot=True, square=True, fmt='.2f', annot_kws={'size': 10}, yticklabels=cols.values, xticklabels=cols.values)\n",
    "plt.savefig('heatmap_engineered.png')\n",
    "plt.show()"
   ]
  },
  {
   "cell_type": "code",
   "execution_count": null,
   "id": "0d1a520a",
   "metadata": {},
   "outputs": [],
   "source": []
  },
  {
   "cell_type": "code",
   "execution_count": null,
   "id": "1dbc7303",
   "metadata": {},
   "outputs": [],
   "source": []
  },
  {
   "cell_type": "code",
   "execution_count": null,
   "id": "408b0435",
   "metadata": {},
   "outputs": [],
   "source": []
  },
  {
   "cell_type": "code",
   "execution_count": null,
   "id": "5e5089e5",
   "metadata": {},
   "outputs": [],
   "source": []
  },
  {
   "cell_type": "code",
   "execution_count": null,
   "id": "2808cb9f",
   "metadata": {},
   "outputs": [],
   "source": []
  }
 ],
 "metadata": {
  "kernelspec": {
   "display_name": "Python 3 (ipykernel)",
   "language": "python",
   "name": "python3"
  },
  "language_info": {
   "codemirror_mode": {
    "name": "ipython",
    "version": 3
   },
   "file_extension": ".py",
   "mimetype": "text/x-python",
   "name": "python",
   "nbconvert_exporter": "python",
   "pygments_lexer": "ipython3",
   "version": "3.9.12"
  }
 },
 "nbformat": 4,
 "nbformat_minor": 5
}
