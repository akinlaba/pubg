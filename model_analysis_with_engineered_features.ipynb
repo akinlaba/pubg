{
 "cells": [
  {
   "cell_type": "code",
   "execution_count": 24,
   "id": "877a3fe9",
   "metadata": {},
   "outputs": [],
   "source": [
    "import numpy as np\n",
    "import pandas as pd\n",
    "import seaborn as sns\n",
    "import matplotlib as mpl\n",
    "import matplotlib.pyplot as plt\n",
    "import matplotlib.ticker as plticker\n",
    "import plotly.express as px\n",
    "from plotly import graph_objects as go\n",
    "from matplotlib.ticker import StrMethodFormatter\n",
    "from sklearn.pipeline import Pipeline\n",
    "from sklearn.pipeline import make_pipeline\n",
    "from sklearn.model_selection import train_test_split\n",
    "from sklearn.feature_extraction.text import CountVectorizer\n",
    "from sklearn.model_selection import cross_val_score\n",
    "from sklearn import metrics\n",
    "from sklearn.model_selection import StratifiedKFold\n",
    "from sklearn.linear_model import LinearRegression, LogisticRegression, LassoCV, Ridge, RidgeCV, ElasticNet, ElasticNetCV\n",
    "from sklearn.preprocessing import StandardScaler\n",
    "from sklearn.metrics import mean_squared_error\n",
    "from sklearn.metrics import mean_absolute_error\n",
    "from math import sqrt\n",
    "from sklearn.ensemble import RandomForestRegressor,AdaBoostRegressor\n",
    "from sklearn.ensemble import GradientBoostingRegressor\n",
    "\n",
    "sns.set_theme(style=\"dark\")\n",
    "pd.set_option('display.max_columns', None)\n",
    "pd.set_option('display.max_rows', None)\n",
    "pd.set_option('display.float_format', lambda x: '%.2f' % x)"
   ]
  },
  {
   "cell_type": "code",
   "execution_count": 8,
   "id": "ec5b0706",
   "metadata": {},
   "outputs": [],
   "source": [
    "df = pd.read_pickle('feature_train.pkl')"
   ]
  },
  {
   "cell_type": "code",
   "execution_count": 9,
   "id": "7afc802d",
   "metadata": {},
   "outputs": [],
   "source": [
    "x = df[df.columns.difference(['winPlacePerc'])]"
   ]
  },
  {
   "cell_type": "code",
   "execution_count": 10,
   "id": "ec0f1018",
   "metadata": {},
   "outputs": [
    {
     "data": {
      "text/html": [
       "<div>\n",
       "<style scoped>\n",
       "    .dataframe tbody tr th:only-of-type {\n",
       "        vertical-align: middle;\n",
       "    }\n",
       "\n",
       "    .dataframe tbody tr th {\n",
       "        vertical-align: top;\n",
       "    }\n",
       "\n",
       "    .dataframe thead th {\n",
       "        text-align: right;\n",
       "    }\n",
       "</style>\n",
       "<table border=\"1\" class=\"dataframe\">\n",
       "  <thead>\n",
       "    <tr style=\"text-align: right;\">\n",
       "      <th></th>\n",
       "      <th>DBNOs</th>\n",
       "      <th>assists</th>\n",
       "      <th>boosts</th>\n",
       "      <th>damageDealt</th>\n",
       "      <th>damage_per_distance</th>\n",
       "      <th>headshotKills</th>\n",
       "      <th>headshot_to_kill</th>\n",
       "      <th>heals</th>\n",
       "      <th>killPlace</th>\n",
       "      <th>killPoints</th>\n",
       "      <th>killStreaks</th>\n",
       "      <th>killplace_to_maxPlace</th>\n",
       "      <th>kills</th>\n",
       "      <th>lobby_size</th>\n",
       "      <th>longestKill</th>\n",
       "      <th>matchDuration</th>\n",
       "      <th>matchType_encoded</th>\n",
       "      <th>maxPlace</th>\n",
       "      <th>max_kill_team</th>\n",
       "      <th>max_kills_match</th>\n",
       "      <th>max_possible_kills</th>\n",
       "      <th>max_team_size_lobby</th>\n",
       "      <th>numGroups</th>\n",
       "      <th>players_in_match</th>\n",
       "      <th>rankPoints</th>\n",
       "      <th>revives</th>\n",
       "      <th>rideDistance</th>\n",
       "      <th>roadKills</th>\n",
       "      <th>swimDistance</th>\n",
       "      <th>teamKills</th>\n",
       "      <th>team_kill_points</th>\n",
       "      <th>team_size</th>\n",
       "      <th>total_distance</th>\n",
       "      <th>total_distance_match</th>\n",
       "      <th>total_distance_per_kill</th>\n",
       "      <th>total_items_acquired</th>\n",
       "      <th>total_items_per_kill</th>\n",
       "      <th>total_kills_match</th>\n",
       "      <th>total_team_damage</th>\n",
       "      <th>total_team_distance</th>\n",
       "      <th>total_team_items</th>\n",
       "      <th>total_team_kills</th>\n",
       "      <th>vehicleDestroys</th>\n",
       "      <th>walkDistance</th>\n",
       "      <th>weaponsAcquired</th>\n",
       "      <th>winPoints</th>\n",
       "    </tr>\n",
       "  </thead>\n",
       "  <tbody>\n",
       "    <tr>\n",
       "      <th>0</th>\n",
       "      <td>0</td>\n",
       "      <td>0</td>\n",
       "      <td>0</td>\n",
       "      <td>0.00</td>\n",
       "      <td>0.00</td>\n",
       "      <td>0</td>\n",
       "      <td>0.00</td>\n",
       "      <td>0</td>\n",
       "      <td>60</td>\n",
       "      <td>1241</td>\n",
       "      <td>0</td>\n",
       "      <td>2.14</td>\n",
       "      <td>0</td>\n",
       "      <td>96</td>\n",
       "      <td>0.00</td>\n",
       "      <td>1306</td>\n",
       "      <td>15</td>\n",
       "      <td>28</td>\n",
       "      <td>4</td>\n",
       "      <td>7</td>\n",
       "      <td>92</td>\n",
       "      <td>8</td>\n",
       "      <td>26</td>\n",
       "      <td>96</td>\n",
       "      <td>-1</td>\n",
       "      <td>0</td>\n",
       "      <td>0.00</td>\n",
       "      <td>0</td>\n",
       "      <td>0.00</td>\n",
       "      <td>0</td>\n",
       "      <td>5002</td>\n",
       "      <td>4</td>\n",
       "      <td>244.80</td>\n",
       "      <td>97713.59</td>\n",
       "      <td>0.00</td>\n",
       "      <td>1</td>\n",
       "      <td>0.00</td>\n",
       "      <td>84</td>\n",
       "      <td>408.75</td>\n",
       "      <td>731.96</td>\n",
       "      <td>5</td>\n",
       "      <td>4</td>\n",
       "      <td>0</td>\n",
       "      <td>244.80</td>\n",
       "      <td>1</td>\n",
       "      <td>1466</td>\n",
       "    </tr>\n",
       "    <tr>\n",
       "      <th>1</th>\n",
       "      <td>0</td>\n",
       "      <td>0</td>\n",
       "      <td>0</td>\n",
       "      <td>91.47</td>\n",
       "      <td>0.06</td>\n",
       "      <td>0</td>\n",
       "      <td>0.00</td>\n",
       "      <td>0</td>\n",
       "      <td>57</td>\n",
       "      <td>0</td>\n",
       "      <td>0</td>\n",
       "      <td>2.19</td>\n",
       "      <td>0</td>\n",
       "      <td>91</td>\n",
       "      <td>0.00</td>\n",
       "      <td>1777</td>\n",
       "      <td>15</td>\n",
       "      <td>26</td>\n",
       "      <td>2</td>\n",
       "      <td>7</td>\n",
       "      <td>87</td>\n",
       "      <td>10</td>\n",
       "      <td>25</td>\n",
       "      <td>91</td>\n",
       "      <td>1484</td>\n",
       "      <td>0</td>\n",
       "      <td>0.00</td>\n",
       "      <td>0</td>\n",
       "      <td>11.04</td>\n",
       "      <td>0</td>\n",
       "      <td>0</td>\n",
       "      <td>4</td>\n",
       "      <td>1445.04</td>\n",
       "      <td>212305.61</td>\n",
       "      <td>0.00</td>\n",
       "      <td>5</td>\n",
       "      <td>0.00</td>\n",
       "      <td>83</td>\n",
       "      <td>571.27</td>\n",
       "      <td>20370.04</td>\n",
       "      <td>43</td>\n",
       "      <td>4</td>\n",
       "      <td>0</td>\n",
       "      <td>1434.00</td>\n",
       "      <td>5</td>\n",
       "      <td>0</td>\n",
       "    </tr>\n",
       "    <tr>\n",
       "      <th>2</th>\n",
       "      <td>0</td>\n",
       "      <td>1</td>\n",
       "      <td>0</td>\n",
       "      <td>68.00</td>\n",
       "      <td>0.42</td>\n",
       "      <td>0</td>\n",
       "      <td>0.00</td>\n",
       "      <td>0</td>\n",
       "      <td>47</td>\n",
       "      <td>0</td>\n",
       "      <td>0</td>\n",
       "      <td>0.94</td>\n",
       "      <td>0</td>\n",
       "      <td>98</td>\n",
       "      <td>0.00</td>\n",
       "      <td>1318</td>\n",
       "      <td>2</td>\n",
       "      <td>50</td>\n",
       "      <td>2</td>\n",
       "      <td>9</td>\n",
       "      <td>96</td>\n",
       "      <td>6</td>\n",
       "      <td>47</td>\n",
       "      <td>98</td>\n",
       "      <td>1491</td>\n",
       "      <td>0</td>\n",
       "      <td>0.00</td>\n",
       "      <td>0</td>\n",
       "      <td>0.00</td>\n",
       "      <td>0</td>\n",
       "      <td>0</td>\n",
       "      <td>2</td>\n",
       "      <td>161.80</td>\n",
       "      <td>101769.67</td>\n",
       "      <td>0.00</td>\n",
       "      <td>2</td>\n",
       "      <td>0.00</td>\n",
       "      <td>91</td>\n",
       "      <td>214.60</td>\n",
       "      <td>1621.20</td>\n",
       "      <td>9</td>\n",
       "      <td>2</td>\n",
       "      <td>0</td>\n",
       "      <td>161.80</td>\n",
       "      <td>2</td>\n",
       "      <td>0</td>\n",
       "    </tr>\n",
       "    <tr>\n",
       "      <th>3</th>\n",
       "      <td>0</td>\n",
       "      <td>0</td>\n",
       "      <td>0</td>\n",
       "      <td>32.90</td>\n",
       "      <td>0.16</td>\n",
       "      <td>0</td>\n",
       "      <td>0.00</td>\n",
       "      <td>0</td>\n",
       "      <td>75</td>\n",
       "      <td>0</td>\n",
       "      <td>0</td>\n",
       "      <td>2.42</td>\n",
       "      <td>0</td>\n",
       "      <td>91</td>\n",
       "      <td>0.00</td>\n",
       "      <td>1436</td>\n",
       "      <td>15</td>\n",
       "      <td>31</td>\n",
       "      <td>0</td>\n",
       "      <td>7</td>\n",
       "      <td>90</td>\n",
       "      <td>8</td>\n",
       "      <td>30</td>\n",
       "      <td>91</td>\n",
       "      <td>1408</td>\n",
       "      <td>0</td>\n",
       "      <td>0.00</td>\n",
       "      <td>0</td>\n",
       "      <td>0.00</td>\n",
       "      <td>0</td>\n",
       "      <td>0</td>\n",
       "      <td>1</td>\n",
       "      <td>202.70</td>\n",
       "      <td>123545.82</td>\n",
       "      <td>0.00</td>\n",
       "      <td>3</td>\n",
       "      <td>0.00</td>\n",
       "      <td>82</td>\n",
       "      <td>32.90</td>\n",
       "      <td>202.70</td>\n",
       "      <td>3</td>\n",
       "      <td>0</td>\n",
       "      <td>0</td>\n",
       "      <td>202.70</td>\n",
       "      <td>3</td>\n",
       "      <td>0</td>\n",
       "    </tr>\n",
       "    <tr>\n",
       "      <th>4</th>\n",
       "      <td>0</td>\n",
       "      <td>0</td>\n",
       "      <td>0</td>\n",
       "      <td>100.00</td>\n",
       "      <td>2.01</td>\n",
       "      <td>0</td>\n",
       "      <td>0.00</td>\n",
       "      <td>0</td>\n",
       "      <td>45</td>\n",
       "      <td>0</td>\n",
       "      <td>1</td>\n",
       "      <td>0.46</td>\n",
       "      <td>1</td>\n",
       "      <td>97</td>\n",
       "      <td>58.53</td>\n",
       "      <td>1424</td>\n",
       "      <td>13</td>\n",
       "      <td>97</td>\n",
       "      <td>1</td>\n",
       "      <td>11</td>\n",
       "      <td>96</td>\n",
       "      <td>2</td>\n",
       "      <td>95</td>\n",
       "      <td>97</td>\n",
       "      <td>1560</td>\n",
       "      <td>0</td>\n",
       "      <td>0.00</td>\n",
       "      <td>0</td>\n",
       "      <td>0.00</td>\n",
       "      <td>0</td>\n",
       "      <td>0</td>\n",
       "      <td>1</td>\n",
       "      <td>49.75</td>\n",
       "      <td>93617.06</td>\n",
       "      <td>49.75</td>\n",
       "      <td>2</td>\n",
       "      <td>2.00</td>\n",
       "      <td>91</td>\n",
       "      <td>100.00</td>\n",
       "      <td>49.75</td>\n",
       "      <td>2</td>\n",
       "      <td>1</td>\n",
       "      <td>0</td>\n",
       "      <td>49.75</td>\n",
       "      <td>2</td>\n",
       "      <td>0</td>\n",
       "    </tr>\n",
       "  </tbody>\n",
       "</table>\n",
       "</div>"
      ],
      "text/plain": [
       "   DBNOs  assists  boosts  damageDealt  damage_per_distance  headshotKills  \\\n",
       "0      0        0       0         0.00                 0.00              0   \n",
       "1      0        0       0        91.47                 0.06              0   \n",
       "2      0        1       0        68.00                 0.42              0   \n",
       "3      0        0       0        32.90                 0.16              0   \n",
       "4      0        0       0       100.00                 2.01              0   \n",
       "\n",
       "   headshot_to_kill  heals  killPlace  killPoints  killStreaks  \\\n",
       "0              0.00      0         60        1241            0   \n",
       "1              0.00      0         57           0            0   \n",
       "2              0.00      0         47           0            0   \n",
       "3              0.00      0         75           0            0   \n",
       "4              0.00      0         45           0            1   \n",
       "\n",
       "   killplace_to_maxPlace  kills  lobby_size  longestKill  matchDuration  \\\n",
       "0                   2.14      0          96         0.00           1306   \n",
       "1                   2.19      0          91         0.00           1777   \n",
       "2                   0.94      0          98         0.00           1318   \n",
       "3                   2.42      0          91         0.00           1436   \n",
       "4                   0.46      1          97        58.53           1424   \n",
       "\n",
       "   matchType_encoded  maxPlace  max_kill_team  max_kills_match  \\\n",
       "0                 15        28              4                7   \n",
       "1                 15        26              2                7   \n",
       "2                  2        50              2                9   \n",
       "3                 15        31              0                7   \n",
       "4                 13        97              1               11   \n",
       "\n",
       "   max_possible_kills  max_team_size_lobby  numGroups  players_in_match  \\\n",
       "0                  92                    8         26                96   \n",
       "1                  87                   10         25                91   \n",
       "2                  96                    6         47                98   \n",
       "3                  90                    8         30                91   \n",
       "4                  96                    2         95                97   \n",
       "\n",
       "   rankPoints  revives  rideDistance  roadKills  swimDistance  teamKills  \\\n",
       "0          -1        0          0.00          0          0.00          0   \n",
       "1        1484        0          0.00          0         11.04          0   \n",
       "2        1491        0          0.00          0          0.00          0   \n",
       "3        1408        0          0.00          0          0.00          0   \n",
       "4        1560        0          0.00          0          0.00          0   \n",
       "\n",
       "   team_kill_points  team_size  total_distance  total_distance_match  \\\n",
       "0              5002          4          244.80              97713.59   \n",
       "1                 0          4         1445.04             212305.61   \n",
       "2                 0          2          161.80             101769.67   \n",
       "3                 0          1          202.70             123545.82   \n",
       "4                 0          1           49.75              93617.06   \n",
       "\n",
       "   total_distance_per_kill  total_items_acquired  total_items_per_kill  \\\n",
       "0                     0.00                     1                  0.00   \n",
       "1                     0.00                     5                  0.00   \n",
       "2                     0.00                     2                  0.00   \n",
       "3                     0.00                     3                  0.00   \n",
       "4                    49.75                     2                  2.00   \n",
       "\n",
       "   total_kills_match  total_team_damage  total_team_distance  \\\n",
       "0                 84             408.75               731.96   \n",
       "1                 83             571.27             20370.04   \n",
       "2                 91             214.60              1621.20   \n",
       "3                 82              32.90               202.70   \n",
       "4                 91             100.00                49.75   \n",
       "\n",
       "   total_team_items  total_team_kills  vehicleDestroys  walkDistance  \\\n",
       "0                 5                 4                0        244.80   \n",
       "1                43                 4                0       1434.00   \n",
       "2                 9                 2                0        161.80   \n",
       "3                 3                 0                0        202.70   \n",
       "4                 2                 1                0         49.75   \n",
       "\n",
       "   weaponsAcquired  winPoints  \n",
       "0                1       1466  \n",
       "1                5          0  \n",
       "2                2          0  \n",
       "3                3          0  \n",
       "4                2          0  "
      ]
     },
     "execution_count": 10,
     "metadata": {},
     "output_type": "execute_result"
    }
   ],
   "source": [
    "x.head()"
   ]
  },
  {
   "cell_type": "code",
   "execution_count": 11,
   "id": "e556fd34",
   "metadata": {},
   "outputs": [],
   "source": [
    "y = df.winPlacePerc"
   ]
  },
  {
   "cell_type": "code",
   "execution_count": 12,
   "id": "9a61ae88",
   "metadata": {},
   "outputs": [],
   "source": [
    "ss = StandardScaler()\n",
    "xs = ss.fit_transform(x)"
   ]
  },
  {
   "cell_type": "code",
   "execution_count": 13,
   "id": "2b90e72f",
   "metadata": {},
   "outputs": [],
   "source": [
    "x_train, x_test, y_train, y_test = train_test_split(xs, y, test_size = 0.3, random_state=20)"
   ]
  },
  {
   "cell_type": "code",
   "execution_count": 14,
   "id": "a33a1e50",
   "metadata": {},
   "outputs": [
    {
     "name": "stdout",
     "output_type": "stream",
     "text": [
      "[0.8679318  0.86830157 0.86720938 0.86495221 0.86782512 0.86594363\n",
      " 0.86795096 0.866961   0.86892192 0.86775777]\n",
      "0.8673755347478496\n"
     ]
    }
   ],
   "source": [
    "ln = LinearRegression()\n",
    "ln.fit(x_train, y_train)\n",
    "ln_scores = cross_val_score(ln, x_train, y_train, cv=10)\n",
    "\n",
    "print(ln_scores)\n",
    "print(np.mean(ln_scores))"
   ]
  },
  {
   "cell_type": "code",
   "execution_count": 15,
   "id": "fbc31adb",
   "metadata": {},
   "outputs": [
    {
     "name": "stderr",
     "output_type": "stream",
     "text": [
      "[Parallel(n_jobs=1)]: Using backend SequentialBackend with 1 concurrent workers.\n",
      "........................................................................................................................................................................................................................................................................................................................................................................................................................................................................................................................................................................................................................................................................................................................................................................................................................................................................................................................................................................................................................................[Parallel(n_jobs=1)]: Done  10 out of  10 | elapsed:   30.8s finished\n"
     ]
    },
    {
     "name": "stdout",
     "output_type": "stream",
     "text": [
      "0.0002492761995730044\n"
     ]
    }
   ],
   "source": [
    "optimal_lasso = LassoCV(n_alphas=100, cv=10, verbose=1)\n",
    "optimal_lasso.fit(x_train, y_train,)\n",
    "\n",
    "print(optimal_lasso.alpha_)"
   ]
  },
  {
   "cell_type": "code",
   "execution_count": 16,
   "id": "d4ae8f1d",
   "metadata": {},
   "outputs": [
    {
     "name": "stdout",
     "output_type": "stream",
     "text": [
      "[0.867574   0.86786273 0.86675977 0.86557007 0.86744362 0.86558841\n",
      " 0.86755805 0.86656933 0.86843088 0.86736923]\n",
      "0.8670726096637649\n"
     ]
    }
   ],
   "source": [
    "lasso = LassoCV(n_alphas=1, cv=10)\n",
    "lasso.fit(x_train, y_train)\n",
    "lasso_scores = cross_val_score(lasso, x_train, y_train, cv=10)\n",
    "print(lasso_scores)\n",
    "print(np.mean(lasso_scores))"
   ]
  },
  {
   "cell_type": "code",
   "execution_count": 17,
   "id": "88558d13",
   "metadata": {},
   "outputs": [
    {
     "name": "stdout",
     "output_type": "stream",
     "text": [
      "[1.00000000e+00 1.83298071e+00 3.35981829e+00 6.15848211e+00\n",
      " 1.12883789e+01 2.06913808e+01 3.79269019e+01 6.95192796e+01\n",
      " 1.27427499e+02 2.33572147e+02 4.28133240e+02 7.84759970e+02\n",
      " 1.43844989e+03 2.63665090e+03 4.83293024e+03 8.85866790e+03\n",
      " 1.62377674e+04 2.97635144e+04 5.45559478e+04 1.00000000e+05]\n",
      "1.0\n"
     ]
    }
   ],
   "source": [
    "ridge_alphas = np.logspace(0, 5, 20)\n",
    "print(ridge_alphas)\n",
    "ridge_alphas\n",
    "optimal_ridge = RidgeCV(alphas=ridge_alphas, cv=10)\n",
    "optimal_ridge.fit(x_train, y_train)\n",
    "\n",
    "print(optimal_ridge.alpha_)"
   ]
  },
  {
   "cell_type": "code",
   "execution_count": 18,
   "id": "33269cd6",
   "metadata": {},
   "outputs": [
    {
     "name": "stdout",
     "output_type": "stream",
     "text": [
      "[0.8679324  0.86830556 0.86721473 0.86493406 0.86782324 0.86594676\n",
      " 0.86794889 0.86696125 0.86892208 0.86776408]\n",
      "0.8673753044040644\n"
     ]
    }
   ],
   "source": [
    "ridge = Ridge(alpha=optimal_ridge.alpha_)\n",
    "ridge.fit(x_train, y_train)\n",
    "ridge_scores = cross_val_score(ridge, x_train, y_train, cv=10)\n",
    "\n",
    "print(ridge_scores)\n",
    "print(np.mean(ridge_scores))"
   ]
  },
  {
   "cell_type": "code",
   "execution_count": 25,
   "id": "a0cac0a4",
   "metadata": {},
   "outputs": [
    {
     "name": "stdout",
     "output_type": "stream",
     "text": [
      "[0.95245499 0.95223031 0.95213999 0.95222613 0.95218638]\n",
      "0.9522475616624467\n"
     ]
    }
   ],
   "source": [
    "rf = RandomForestRegressor(n_estimators=20, min_samples_split=5)\n",
    "rf.fit(x_train, y_train)\n",
    "rf_scores = cross_val_score(rf, x_train, y_train, cv=5)\n",
    "\n",
    "print(rf_scores)\n",
    "print(np.mean(rf_scores))"
   ]
  },
  {
   "cell_type": "code",
   "execution_count": 27,
   "id": "dc2e8aba",
   "metadata": {},
   "outputs": [
    {
     "name": "stdout",
     "output_type": "stream",
     "text": [
      "[0.8394444  0.8339454  0.83352621 0.84760012 0.83670675 0.836571\n",
      " 0.84151567 0.83610991 0.83970872 0.83694347]\n",
      "0.8382071653050728\n"
     ]
    }
   ],
   "source": [
    "ar = AdaBoostRegressor(n_estimators=20)\n",
    "ar.fit(x_train, y_train)\n",
    "ar_scores = cross_val_score(ar, x_train, y_train, cv=10)\n",
    "\n",
    "print(ar_scores)\n",
    "print(np.mean(ar_scores))"
   ]
  },
  {
   "cell_type": "code",
   "execution_count": 28,
   "id": "f659e18c",
   "metadata": {},
   "outputs": [
    {
     "name": "stdout",
     "output_type": "stream",
     "text": [
      "[0.84545122 0.84509473 0.84360318 0.84328745 0.84376482 0.84383271\n",
      " 0.84330869 0.84319315 0.84468763 0.84404071]\n",
      "0.8440264300799895\n"
     ]
    }
   ],
   "source": [
    "gr = GradientBoostingRegressor(n_estimators=20, min_samples_split=5)\n",
    "gr.fit(x_train, y_train)\n",
    "gr_scores = cross_val_score(gr, x_train, y_train, cv=10)\n",
    "\n",
    "print(gr_scores)\n",
    "print(np.mean(gr_scores))"
   ]
  },
  {
   "cell_type": "code",
   "execution_count": 20,
   "id": "c62b4f1f",
   "metadata": {},
   "outputs": [],
   "source": [
    "# normalizing predicitons into prediction range of 0 - 1\n",
    "\n",
    "y_pred_lin = np.minimum(1, np.maximum(0., ln.predict(x_test)))\n",
    "y_pred = np.minimum(1, np.maximum(0., ridge.predict(x_test)))\n",
    "y_pred_lasso = np.minimum(1, np.maximum(0., lasso.predict(x_test)))"
   ]
  },
  {
   "cell_type": "code",
   "execution_count": 29,
   "id": "960764ba",
   "metadata": {},
   "outputs": [],
   "source": [
    "y_pred_rf = rf.predict(x_test)\n",
    "y_pred_ar = ar.predict(x_test)\n",
    "y_pred_gr = gr.predict(x_test)"
   ]
  },
  {
   "cell_type": "code",
   "execution_count": 21,
   "id": "4ff0c038",
   "metadata": {},
   "outputs": [
    {
     "name": "stdout",
     "output_type": "stream",
     "text": [
      "rmse 0.10807547798065201\n",
      "mse 0.011680308940746398\n",
      "mae 0.07971808515710846\n"
     ]
    }
   ],
   "source": [
    "# rmse vs mse vs mae\n",
    "\n",
    "print('rmse', sqrt(mean_squared_error(y_test, y_pred_lasso)))\n",
    "print('mse', mean_squared_error(y_test, y_pred_lasso))\n",
    "print('mae', mean_absolute_error(y_test, y_pred_lasso))"
   ]
  },
  {
   "cell_type": "code",
   "execution_count": 22,
   "id": "91a5ef75",
   "metadata": {},
   "outputs": [
    {
     "name": "stdout",
     "output_type": "stream",
     "text": [
      "rmse 0.10774322066878779\n",
      "mse 0.0116086016000831\n",
      "mae 0.0793680198864057\n"
     ]
    }
   ],
   "source": [
    "# rmse vs mse vs mae\n",
    "\n",
    "print('rmse', sqrt(mean_squared_error(y_test, y_pred)))\n",
    "print('mse', mean_squared_error(y_test, y_pred))\n",
    "print('mae', mean_absolute_error(y_test, y_pred))"
   ]
  },
  {
   "cell_type": "code",
   "execution_count": 23,
   "id": "3f015bbe",
   "metadata": {},
   "outputs": [
    {
     "name": "stdout",
     "output_type": "stream",
     "text": [
      "rmse 0.10774300676266507\n",
      "mse 0.011608555506259692\n",
      "mae 0.07936524823026314\n"
     ]
    }
   ],
   "source": [
    "# rmse vs mse vs mae\n",
    "\n",
    "print('rmse', sqrt(mean_squared_error(y_test, y_pred_lin)))\n",
    "print('mse', mean_squared_error(y_test, y_pred_lin))\n",
    "print('mae', mean_absolute_error(y_test, y_pred_lin))"
   ]
  },
  {
   "cell_type": "code",
   "execution_count": 30,
   "id": "94227727",
   "metadata": {},
   "outputs": [
    {
     "name": "stdout",
     "output_type": "stream",
     "text": [
      "rmse 0.06643064791245394\n",
      "mse 0.004413030982068421\n",
      "mae 0.047361313290645704\n"
     ]
    }
   ],
   "source": [
    "# rmse vs mse vs mae\n",
    "\n",
    "print('rmse', sqrt(mean_squared_error(y_test, y_pred_rf)))\n",
    "print('mse', mean_squared_error(y_test, y_pred_rf))\n",
    "print('mae', mean_absolute_error(y_test, y_pred_rf))"
   ]
  },
  {
   "cell_type": "code",
   "execution_count": 31,
   "id": "318d061c",
   "metadata": {},
   "outputs": [
    {
     "name": "stdout",
     "output_type": "stream",
     "text": [
      "rmse 0.12461532643410152\n",
      "mse 0.01552897958227768\n",
      "mae 0.09914548388447685\n"
     ]
    }
   ],
   "source": [
    "# rmse vs mse vs mae\n",
    "\n",
    "print('rmse', sqrt(mean_squared_error(y_test, y_pred_ar)))\n",
    "print('mse', mean_squared_error(y_test, y_pred_ar))\n",
    "print('mae', mean_absolute_error(y_test, y_pred_ar))"
   ]
  },
  {
   "cell_type": "code",
   "execution_count": 32,
   "id": "0b4776fe",
   "metadata": {},
   "outputs": [
    {
     "name": "stdout",
     "output_type": "stream",
     "text": [
      "rmse 0.12109496566358606\n",
      "mse 0.014663990709065086\n",
      "mae 0.09398658613866678\n"
     ]
    }
   ],
   "source": [
    "# rmse vs mse vs mae\n",
    "\n",
    "print('rmse', sqrt(mean_squared_error(y_test, y_pred_gr)))\n",
    "print('mse', mean_squared_error(y_test, y_pred_gr))\n",
    "print('mae', mean_absolute_error(y_test, y_pred_gr))"
   ]
  },
  {
   "cell_type": "code",
   "execution_count": null,
   "id": "63787ca4",
   "metadata": {},
   "outputs": [],
   "source": []
  }
 ],
 "metadata": {
  "kernelspec": {
   "display_name": "Python 3 (ipykernel)",
   "language": "python",
   "name": "python3"
  },
  "language_info": {
   "codemirror_mode": {
    "name": "ipython",
    "version": 3
   },
   "file_extension": ".py",
   "mimetype": "text/x-python",
   "name": "python",
   "nbconvert_exporter": "python",
   "pygments_lexer": "ipython3",
   "version": "3.9.12"
  }
 },
 "nbformat": 4,
 "nbformat_minor": 5
}
